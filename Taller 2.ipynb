{
 "cells": [
  {
   "cell_type": "code",
   "execution_count": 60,
   "metadata": {},
   "outputs": [],
   "source": [
    "#Taller 2\n",
    "#Claudia Pinzón"
   ]
  },
  {
   "cell_type": "code",
   "execution_count": 61,
   "metadata": {},
   "outputs": [],
   "source": [
    "#Importar archivos Zip\n",
    "import os\n",
    "from zipfile import ZipFile"
   ]
  },
  {
   "cell_type": "code",
   "execution_count": 62,
   "metadata": {},
   "outputs": [],
   "source": [
    "direccion = ('../Claus/NLP/python_books.zip')"
   ]
  },
  {
   "cell_type": "code",
   "execution_count": 63,
   "metadata": {},
   "outputs": [],
   "source": [
    "#Descomprimir carpeta\n",
    "with ZipFile(direccion) as archivo:\n",
    "    archivo.extractall('../Claus/NLP')"
   ]
  },
  {
   "cell_type": "code",
   "execution_count": 72,
   "metadata": {},
   "outputs": [
    {
     "name": "stdout",
     "output_type": "stream",
     "text": [
      "Python  Data Science Cookbook.pdf\n",
      "Python - AWS.pdf\n",
      "Python - Finance.pdf\n"
     ]
    }
   ],
   "source": [
    "#Ver el nombre de los archivos\n",
    "for raiz, dirs, archivos in os.walk('../Claus/NLP/python_books'):\n",
    "    for a in archivos:\n",
    "        print(a)"
   ]
  },
  {
   "cell_type": "code",
   "execution_count": 65,
   "metadata": {},
   "outputs": [],
   "source": [
    "#Librerías para leer archivos\n",
    "import fitz"
   ]
  },
  {
   "cell_type": "code",
   "execution_count": 66,
   "metadata": {},
   "outputs": [
    {
     "name": "stdout",
     "output_type": "stream",
     "text": [
      "Requirement already satisfied: fitz in c:\\users\\eliza\\anaconda3\\lib\\site-packages (0.0.1.dev2)Note: you may need to restart the kernel to use updated packages.\n",
      "\n",
      "Requirement already satisfied: numpy in c:\\users\\eliza\\anaconda3\\lib\\site-packages (from fitz) (1.19.2)\n",
      "Requirement already satisfied: nibabel in c:\\users\\eliza\\anaconda3\\lib\\site-packages (from fitz) (3.2.1)\n",
      "Requirement already satisfied: pyxnat in c:\\users\\eliza\\anaconda3\\lib\\site-packages (from fitz) (1.4)\n",
      "Requirement already satisfied: configparser in c:\\users\\eliza\\anaconda3\\lib\\site-packages (from fitz) (5.0.2)\n",
      "Requirement already satisfied: pandas in c:\\users\\eliza\\anaconda3\\lib\\site-packages (from fitz) (1.1.3)\n",
      "Requirement already satisfied: scipy in c:\\users\\eliza\\anaconda3\\lib\\site-packages (from fitz) (1.5.2)\n",
      "Requirement already satisfied: httplib2 in c:\\users\\eliza\\anaconda3\\lib\\site-packages (from fitz) (0.19.0)\n",
      "Requirement already satisfied: nipype in c:\\users\\eliza\\anaconda3\\lib\\site-packages (from fitz) (1.6.0)\n",
      "Requirement already satisfied: configobj in c:\\users\\eliza\\anaconda3\\lib\\site-packages (from fitz) (5.0.6)\n",
      "Requirement already satisfied: packaging>=14.3 in c:\\users\\eliza\\anaconda3\\lib\\site-packages (from nibabel->fitz) (20.4)\n",
      "Requirement already satisfied: six>=1.15 in c:\\users\\eliza\\anaconda3\\lib\\site-packages (from pyxnat->fitz) (1.15.0)\n",
      "Requirement already satisfied: future>=0.16 in c:\\users\\eliza\\anaconda3\\lib\\site-packages (from pyxnat->fitz) (0.18.2)\n",
      "Requirement already satisfied: pathlib>=1.0 in c:\\users\\eliza\\anaconda3\\lib\\site-packages (from pyxnat->fitz) (1.0.1)\n",
      "Requirement already satisfied: requests>=2.20 in c:\\users\\eliza\\anaconda3\\lib\\site-packages (from pyxnat->fitz) (2.24.0)\n",
      "Requirement already satisfied: lxml>=4.3 in c:\\users\\eliza\\anaconda3\\lib\\site-packages (from pyxnat->fitz) (4.6.1)\n",
      "Requirement already satisfied: pytz>=2017.2 in c:\\users\\eliza\\anaconda3\\lib\\site-packages (from pandas->fitz) (2020.1)\n",
      "Requirement already satisfied: python-dateutil>=2.7.3 in c:\\users\\eliza\\anaconda3\\lib\\site-packages (from pandas->fitz) (2.8.1)\n",
      "Requirement already satisfied: pyparsing<3,>=2.4.2 in c:\\users\\eliza\\anaconda3\\lib\\site-packages (from httplib2->fitz) (2.4.7)\n",
      "Requirement already satisfied: simplejson>=3.8.0 in c:\\users\\eliza\\anaconda3\\lib\\site-packages (from nipype->fitz) (3.17.2)\n",
      "Requirement already satisfied: traits!=5.0,>=4.6 in c:\\users\\eliza\\anaconda3\\lib\\site-packages (from nipype->fitz) (6.2.0)\n",
      "Requirement already satisfied: etelemetry>=0.2.0 in c:\\users\\eliza\\anaconda3\\lib\\site-packages (from nipype->fitz) (0.2.2)\n",
      "Requirement already satisfied: click>=6.6.0 in c:\\users\\eliza\\anaconda3\\lib\\site-packages (from nipype->fitz) (7.1.2)\n",
      "Requirement already satisfied: prov>=1.5.2 in c:\\users\\eliza\\anaconda3\\lib\\site-packages (from nipype->fitz) (2.0.0)\n",
      "Requirement already satisfied: filelock>=3.0.0 in c:\\users\\eliza\\anaconda3\\lib\\site-packages (from nipype->fitz) (3.0.12)\n",
      "Requirement already satisfied: pydot>=1.2.3 in c:\\users\\eliza\\anaconda3\\lib\\site-packages (from nipype->fitz) (1.4.2)\n",
      "Requirement already satisfied: rdflib>=5.0.0 in c:\\users\\eliza\\anaconda3\\lib\\site-packages (from nipype->fitz) (5.0.0)\n",
      "Requirement already satisfied: networkx>=2.0 in c:\\users\\eliza\\anaconda3\\lib\\site-packages (from nipype->fitz) (2.5)\n",
      "Requirement already satisfied: urllib3!=1.25.0,!=1.25.1,<1.26,>=1.21.1 in c:\\users\\eliza\\anaconda3\\lib\\site-packages (from requests>=2.20->pyxnat->fitz) (1.25.11)\n",
      "Requirement already satisfied: idna<3,>=2.5 in c:\\users\\eliza\\anaconda3\\lib\\site-packages (from requests>=2.20->pyxnat->fitz) (2.10)\n",
      "Requirement already satisfied: chardet<4,>=3.0.2 in c:\\users\\eliza\\anaconda3\\lib\\site-packages (from requests>=2.20->pyxnat->fitz) (3.0.4)\n",
      "Requirement already satisfied: certifi>=2017.4.17 in c:\\users\\eliza\\anaconda3\\lib\\site-packages (from requests>=2.20->pyxnat->fitz) (2020.6.20)\n",
      "Requirement already satisfied: ci-info>=0.2 in c:\\users\\eliza\\anaconda3\\lib\\site-packages (from etelemetry>=0.2.0->nipype->fitz) (0.2.0)\n",
      "Requirement already satisfied: isodate in c:\\users\\eliza\\anaconda3\\lib\\site-packages (from rdflib>=5.0.0->nipype->fitz) (0.6.0)\n",
      "Requirement already satisfied: decorator>=4.3.0 in c:\\users\\eliza\\anaconda3\\lib\\site-packages (from networkx>=2.0->nipype->fitz) (4.4.2)\n"
     ]
    }
   ],
   "source": [
    "pip install fitz"
   ]
  },
  {
   "cell_type": "code",
   "execution_count": 67,
   "metadata": {},
   "outputs": [
    {
     "name": "stdout",
     "output_type": "stream",
     "text": [
      "Requirement already satisfied: PyMuPDF in c:\\users\\eliza\\anaconda3\\lib\\site-packages (1.18.8)\n",
      "Note: you may need to restart the kernel to use updated packages.\n"
     ]
    }
   ],
   "source": [
    "pip install PyMuPDF"
   ]
  },
  {
   "cell_type": "code",
   "execution_count": 75,
   "metadata": {},
   "outputs": [
    {
     "name": "stdout",
     "output_type": "stream",
     "text": [
      "Número de páginas:  1\n",
      "[ vii ]\n",
      "Preface\n",
      "With an increasing interest in leveraging cloud infrastructure around the world, the \n",
      "AWS cloud from Amazon offers a cutting-edge platform for architecting, building, \n",
      "and deploying web-scale cloud applications through a user-friendly interface. The \n",
      "variety of features available within AWS can reduce overall infrastructure costs and \n",
      "accelerate the development process for both large enterprises and start-ups alike.\n",
      "Learning AWS covers basic, intermediate, and advanced features and concepts  \n",
      "as they relate to designing, developing, and deploying scalable, highly available,  \n",
      "and secure applications on the AWS platform. By sequentially working through  \n",
      "the steps in each chapter, you will quickly master the features of AWS to create an \n",
      "enterprise-grade cloud application. We use a three-tiered services-oriented sample \n",
      "application for extensive hands-on exercises.\n",
      "This book will not only teach you about the AWS components, but you will gain \n",
      "valuable information about key concepts such as multi-tenancy, auto scaling, \n",
      "planning, implementing application development environments, addressing \n",
      "application security concerns, and so on. You will also learn how these concepts \n",
      "relate to cost effective architectural decisions while designing scalable, highly \n",
      "available, and secure AWS cloud applications.\n",
      "A step-by-step approach to cloud application design and implementation is explained \n",
      "in a conversational and easy-to-follow style. Each topic is explained sequentially in \n",
      "the process of creating an AWS cloud application. Detailed explanations of the basic \n",
      "and advanced features of AWS that address the needs of readers with a wide range \n",
      "of real-world experiences are also included. Expert programmers and architects will \n",
      "appreciate the focus on the practice rather than the theory.\n",
      "\n"
     ]
    }
   ],
   "source": [
    "#Leer archivos\n",
    "#Archivo 1\n",
    "documento1 = fitz.open('C:/Users/eliza/OneDrive/Desktop/Claus/NLP/python_books/Python - AWS.pdf')\n",
    "print(\"Número de páginas: \", documento1.pageCount)\n",
    "pagina = documento1.loadPage(0)\n",
    "texto = pagina.getText (\"text\")\n",
    "print(texto)"
   ]
  },
  {
   "cell_type": "code",
   "execution_count": 76,
   "metadata": {},
   "outputs": [
    {
     "name": "stdout",
     "output_type": "stream",
     "text": [
      "Número de páginas:  1\n",
      "Preface\n",
      "Today,\twe\tlive\tin\ta\tworld\tof\tconnected\tthings\twhere\ttons\tof\tdata\tis\tgenerated\tand\tit\tis\n",
      "humanly\timpossible\tto\tanalyze\tall\tthe\tincoming\tdata\tand\tmake\tdecisions.\tHuman\n",
      "decisions\tare\tincreasingly\treplaced\tby\tdecisions\tmade\tby\tcomputers.\tThanks\tto\tthe\tfield\n",
      "of\tdata\tscience.\tData\tscience\thas\tpenetrated\tdeeply\tin\tour\tconnected\tworld\tand\tthere\tis\ta\n",
      "growing\tdemand\tin\tthe\tmarket\tfor\tpeople\twho\tnot\tonly\tunderstand\tdata\tscience\n",
      "algorithms\tthoroughly,\tbut\tare\talso\tcapable\tof\tprogramming\tthese\talgorithms.\tData\n",
      "science\tis\ta\tfield\tthat\tis\tat\tthe\tintersection\tof\tmany\tfields,\tincluding\tdata\tmining,\tmachine\n",
      "learning,\tand\tstatistics,\tto\tname\ta\tfew.\tThis\tputs\tan\timmense\tburden\ton\tall\tlevels\tof\tdata\n",
      "scientists;\tfrom\tthe\tone\twho\tis\taspiring\tto\tbecome\ta\tdata\tscientist\tand\tthose\twho\tare\n",
      "currently\tpractitioners\tin\tthis\tfield.\tTreating\tthese\talgorithms\tas\ta\tblack\tbox\tand\tusing\n",
      "them\tin\tdecision-making\tsystems\twill\tlead\tto\tcounterproductive\tresults.\tWith\ttons\tof\n",
      "algorithms\tand\tinnumerable\tproblems\tout\tthere,\tit\trequires\ta\tgood\tgrasp\tof\tthe\tunderlying\n",
      "algorithms\tin\torder\tto\tchoose\tthe\tbest\tone\tfor\tany\tgiven\tproblem.\n",
      "Python\tas\ta\tprogramming\tlanguage\thas\tevolved\tover\tthe\tyears\tand\ttoday,\tit\tis\tthe\tnumber\n",
      "one\tchoice\tfor\ta\tdata\tscientist.\tIts\tability\tto\tact\tas\ta\tscripting\tlanguage\tfor\tquick\tprototype\n",
      "building\tand\tits\tsophisticated\tlanguage\tconstructs\tfor\tfull-fledged\tsoftware\tdevelopment\n",
      "combined\twith\tits\tfantastic\tlibrary\tsupport\tfor\tnumeric\tcomputations\thas\tled\tto\tits\tcurrent\n",
      "popularity\tamong\tdata\tscientists\tand\tthe\tgeneral\tscientific\tprogramming\tcommunity.\tNot\n",
      "just\tthat,\tPython\tis\talso\tpopular\tamong\tweb\tdevelopers;\tthanks\tto\tframeworks\tsuch\tas\n",
      "Django\tand\tFlask.\n",
      "This\tbook\thas\tbeen\tcarefully\twritten\tto\tcater\tto\tthe\tneeds\tof\ta\tdiverse\trange\tof\tdata\n",
      "scientists—starting\tfrom\tnovice\tdata\tscientists\tto\texperienced\tones—through\tcarefully\n",
      "crafted\trecipes,\twhich\ttouch\tupon\tthe\tdifferent\taspects\tof\tdata\tscience,\tincluding\tdata\n",
      "exploration,\tdata\tanalysis\tand\tmining,\tmachine\tlearning,\tand\tlarge\tscale\tmachine\tlearning.\n",
      "Each\tchapter\thas\tbeen\tcarefully\tcrafted\twith\trecipes\texploring\tthese\taspects.\tSufficient\n",
      "math\thas\tbeen\tprovided\tfor\tthe\treaders\tto\tunderstand\tthe\tfunctioning\tof\tthe\talgorithms\tin\n",
      "depth.\tWherever\tnecessary,\tenough\treferences\tare\tprovided\tfor\tthe\tcurious\treaders.\tThe\n",
      "recipes\tare\twritten\tin\tsuch\ta\tway\tthat\tthey\tare\teasy\tto\tfollow\tand\tunderstand.\n",
      "This\tbook\tbrings\tthe\tart\tof\tdata\tscience\twith\tpower\tPython\tprogramming\tto\tthe\treaders\n",
      "and\thelps\tthem\tmaster\tthe\tconcepts\tof\tdata\tscience.\tKnowledge\tof\tPython\tis\tnot\n",
      "mandatory\tto\tfollow\tthis\tbook.\tNon-Python\tprogrammers\tcan\trefer\tto\tthe\tfirst\tchapter,\n",
      "which\tintroduces\tthe\tPython\tdata\tstructures\tand\tfunction\tprogramming\tconcepts.\n",
      "The\tearly\tchapters\tcover\tthe\tbasics\tof\tdata\tscience\tand\tthe\tlater\tchapters\tare\tdedicated\tto\n",
      "advanced\tdata\tscience\talgorithms.\tState-of-the-art\talgorithms\tthat\tare\tcurrently\tused\tin\n",
      "practice\tby\tleading\tdata\tscientists\tacross\tindustries\tincluding\tthe\tensemble\tmethods,\n",
      "random\tforest,\tregression\twith\tregularization,\tand\tothers\tare\tcovered\tin\tdetail.\tSome\tof\n",
      "the\talgorithms\tthat\tare\tpopular\tin\tacademia\tand\tstill\tnot\twidely\tintroduced\tto\tthe\n",
      "mainstream\tsuch\tas\trotational\tforest\tare\tcovered\tin\tdetail.\n",
      "With\ta\tlot\tof\tdo-it-yourself\tbooks\ton\tdata\tscience\ttoday\tin\tthe\tmarket,\twe\tfeel\tthat\tthere\tis\n",
      "a\tgap\tin\tterms\tof\tcovering\tthe\tright\tmix\tof\tmath\tphilosophy\tbehind\tthe\tdata\tscience\n",
      "\n"
     ]
    }
   ],
   "source": [
    "#Archivo 2\n",
    "documento2 = fitz.open('C:/Users/eliza/OneDrive/Desktop/Claus/NLP/python_books/Python  Data Science Cookbook.pdf')\n",
    "print(\"Número de páginas: \", documento2.pageCount)\n",
    "pagina = documento2.loadPage(0)\n",
    "texto = pagina.getText (\"text\")\n",
    "print(texto)"
   ]
  },
  {
   "cell_type": "code",
   "execution_count": 77,
   "metadata": {},
   "outputs": [
    {
     "name": "stdout",
     "output_type": "stream",
     "text": [
      "Número de páginas:  1\n",
      "Preface\n",
      "It is our firm belief that an ambitious student major in finance should learn at least \n",
      "one computer language. The basic reason is that we have entered the Big Data era. \n",
      "In finance, we have a huge amount of data, and most of it is publically available free \n",
      "of charge. To use such rich sources of data efficiently, we need a tool. Among many \n",
      "potential candidates, Python is one of the best choices.\n",
      "Why Python?\n",
      "There are various reasons that Python should be used. Firstly, Python is free in terms \n",
      "of license. Python is available for all major operating systems, such as Windows, \n",
      "Linux/Unix, OS/2, Mac, and Amiga, among others. Being free has many benefits. \n",
      "When students graduate, they could apply what they have learned wherever they \n",
      "go. This is true for the financial community as well. In contrast, this is not true for \n",
      "SAS and MATLAB. Secondly, Python is powerful, flexible, and easy to learn. It is \n",
      "capable of solving almost all our financial and economic estimations. Thirdly, we \n",
      "could apply Python to Big Data. Dasgupta (2013) argues that R and Python are two \n",
      "of the most popular open source programming languages for data analysis. Fourthly, \n",
      "there are many useful modules in Python. Each model is developed for a special \n",
      "purpose. In this book, we focus on NumPy, SciPy, Matplotlib, Statsmodels, and \n",
      "Pandas modules.\n",
      "\n"
     ]
    }
   ],
   "source": [
    "#Archivo 3\n",
    "documento3 = fitz.open('C:/Users/eliza/OneDrive/Desktop/Claus/NLP/python_books/Python - Finance.pdf')\n",
    "print(\"Número de páginas: \", documento3.pageCount)\n",
    "pagina = documento3.loadPage(0)\n",
    "texto = pagina.getText (\"text\")\n",
    "print(texto)"
   ]
  },
  {
   "cell_type": "code",
   "execution_count": 82,
   "metadata": {},
   "outputs": [
    {
     "name": "stdout",
     "output_type": "stream",
     "text": [
      "Cantidad de palabras en archivo 1:  254\n"
     ]
    }
   ],
   "source": [
    "#Contar el número de palabras\n",
    "#Archivo 1\n",
    "TextoCompleto1 = []\n",
    "for page in documento1.pages(0, documento1.pageCount,1):\n",
    "    texto = str(page.getText())\n",
    "    TextoCompleto1.append(texto)\n",
    "    TextoCompleto1 = \"\".join(TextoCompleto1)\n",
    "print (\"Cantidad de palabras en archivo 1: \", len(TextoCompleto1.split()))"
   ]
  },
  {
   "cell_type": "code",
   "execution_count": 84,
   "metadata": {},
   "outputs": [
    {
     "name": "stdout",
     "output_type": "stream",
     "text": [
      "Cantidad de palabras en archivo 2:  535\n"
     ]
    }
   ],
   "source": [
    "#Archivo 2\n",
    "TextoCompleto2 = []\n",
    "for page in documento2.pages(0, documento2.pageCount,1):\n",
    "    texto = str(page.getText())\n",
    "    TextoCompleto2.append(texto)\n",
    "    TextoCompleto2 = \"\".join(TextoCompleto2)\n",
    "print (\"Cantidad de palabras en archivo 2: \", len(TextoCompleto2.split()))"
   ]
  },
  {
   "cell_type": "code",
   "execution_count": 85,
   "metadata": {},
   "outputs": [
    {
     "name": "stdout",
     "output_type": "stream",
     "text": [
      "Cantidad de palabras en archivo 3:  226\n"
     ]
    }
   ],
   "source": [
    "#Archivo 3\n",
    "TextoCompleto3 = []\n",
    "for page in documento3.pages(0, documento3.pageCount,1):\n",
    "    texto = str(page.getText())\n",
    "    TextoCompleto3.append(texto)\n",
    "    TextoCompleto3 = \"\".join(TextoCompleto3)\n",
    "print (\"Cantidad de palabras en archivo 3: \", len(TextoCompleto3.split()))"
   ]
  },
  {
   "cell_type": "code",
   "execution_count": null,
   "metadata": {},
   "outputs": [],
   "source": [
    "# Respuesta:\n",
    "# El archivo 2, es el que tiene mayor número de palabras"
   ]
  }
 ],
 "metadata": {
  "kernelspec": {
   "display_name": "Python 3",
   "language": "python",
   "name": "python3"
  },
  "language_info": {
   "codemirror_mode": {
    "name": "ipython",
    "version": 3
   },
   "file_extension": ".py",
   "mimetype": "text/x-python",
   "name": "python",
   "nbconvert_exporter": "python",
   "pygments_lexer": "ipython3",
   "version": "3.8.5"
  }
 },
 "nbformat": 4,
 "nbformat_minor": 4
}
